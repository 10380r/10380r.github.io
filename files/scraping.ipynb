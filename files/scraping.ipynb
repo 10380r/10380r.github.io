{
 "cells": [
  {
   "cell_type": "code",
   "execution_count": null,
   "metadata": {
    "slideshow": {
     "slide_type": "slide"
    }
   },
   "outputs": [],
   "source": [
    "from IPython.core.display import display, HTML\n",
    "display(HTML(\"<style>.container { width:100% !important; }</style>\"))"
   ]
  },
  {
   "cell_type": "markdown",
   "metadata": {
    "slideshow": {
     "slide_type": "slide"
    }
   },
   "source": [
    "----------\n",
    "# Webスクレイピング  \n",
    "---------\n",
    "#### 概要\n",
    "Webスクレイピングとは **データ取得** をする際に利用する技術    \n",
    "プログラムを使ってWebからコンテンツをダウンロードすること  \n",
    "例： GoogleはスクレイピングでWebページの索引を作成  \n",
    "  \n",
    "  -----\n",
    "Chromeの検証機能を使い、htmlを読みながら解析して欲しい要素をパースするので、ある程度のhtmlの知識が必要になります。"
   ]
  },
  {
   "cell_type": "markdown",
   "metadata": {
    "slideshow": {
     "slide_type": "slide"
    }
   },
   "source": [
    "-----\n",
    "#### データ取得の開発フロー  \n",
    "どのようなデータが必要かを考案  \n",
    "そのデータを取得できるAPIがあるか調査  \n",
    "[API](https://www.sejuku.net/blog/7087)がなかった場合スクレイピングを実装   "
   ]
  },
  {
   "cell_type": "markdown",
   "metadata": {
    "slideshow": {
     "slide_type": "slide"
    }
   },
   "source": [
    "-----\n",
    "#### なぜスクレイピングの優先度が低いのか  \n",
    "APIの方が実装コストが低い  \n",
    "Webスクレイピングは実装コストがAPIと比べて高く，法律的な制限も存在する  "
   ]
  },
  {
   "cell_type": "markdown",
   "metadata": {
    "slideshow": {
     "slide_type": "slide"
    }
   },
   "source": [
    "------\n",
    "#### <a style='color:red'>**スクレイピングに伴う注意事項**</a>\n",
    "以下通読願います。  \n",
    "[Webスクレイピングの注意事項一覧](https://qiita.com/nezuq/items/c5e827e1827e7cb29011)  \n",
    "\n",
    "実際、こんな事件がありました。  \n",
    "-->  [岡崎市立中央図書館事件](https://ja.wikipedia.org/wiki/%E5%B2%A1%E5%B4%8E%E5%B8%82%E7%AB%8B%E4%B8%AD%E5%A4%AE%E5%9B%B3%E6%9B%B8%E9%A4%A8%E4%BA%8B%E4%BB%B6)  "
   ]
  },
  {
   "cell_type": "markdown",
   "metadata": {
    "slideshow": {
     "slide_type": "slide"
    }
   },
   "source": [
    "## スクレイピングの工程\n",
    "\n",
    "_『[yahooの速報](https://news.yahoo.co.jp/flash)から各ニュースの速報からタイトルを出力してみましょう  』_\n"
   ]
  },
  {
   "cell_type": "markdown",
   "metadata": {
    "slideshow": {
     "slide_type": "slide"
    }
   },
   "source": [
    "  \n",
    "1.必要なライブラリのインポート  \n",
    "\n",
    "・requests \n",
    ">requestsはhttpリクエストを送るためのライブラリ\n",
    "\n",
    "・BeautifulSoup\n",
    ">スクレイピングに特化したライブラリ  \n",
    "他にも、`selenium`, `scarapy`, `PhantomJS`などが存在。  \n",
    "用途に合わせてライブラリを変える。\n",
    "\n",
    "```python\n",
    "import requests\n",
    "from bs4 import BeautifulSoup\n",
    "```"
   ]
  },
  {
   "cell_type": "markdown",
   "metadata": {
    "slideshow": {
     "slide_type": "slide"
    }
   },
   "source": [
    "2.urlの指定\n",
    "```python\n",
    "url = 'https://news.yahoo.co.jp/flash'\n",
    "```"
   ]
  },
  {
   "cell_type": "markdown",
   "metadata": {
    "slideshow": {
     "slide_type": "slide"
    }
   },
   "source": [
    "3.resという変数にrequestsライブラリのgetメソッドを使用してレスポンスの情報を格納\n",
    "```python\n",
    "res = requests.get(url)\n",
    "```"
   ]
  },
  {
   "cell_type": "markdown",
   "metadata": {
    "slideshow": {
     "slide_type": "slide"
    }
   },
   "source": [
    "4.Beautiful Soupを使用してスクレイピング\n",
    "```python\n",
    "soup = BeautifulSoup(res.content)\n",
    "```"
   ]
  },
  {
   "cell_type": "markdown",
   "metadata": {
    "slideshow": {
     "slide_type": "slide"
    }
   },
   "source": [
    "5.抽出したい要素を指定し、変数に格納\n",
    "\n",
    "\n",
    "`オブジェクト.find('htmlのタグ', 'htmlのクラス')`\n",
    "\n",
    "```python\n",
    "parent = soup.find('div', 'newsFeed')\n",
    "targets = parent.findAll('div', 'newsFeed_item_title')\n",
    "```"
   ]
  },
  {
   "cell_type": "markdown",
   "metadata": {
    "slideshow": {
     "slide_type": "slide"
    }
   },
   "source": [
    "6.findAllから返されるオブジェクトはリストなので `.text` と指定しての出力ができない  \n",
    "そのためループ処理して、そこから `.text` として出力させる\n",
    "```python\n",
    "for target in targets:\n",
    "    print(target.text)\n",
    "    ```"
   ]
  },
  {
   "cell_type": "code",
   "execution_count": null,
   "metadata": {},
   "outputs": [],
   "source": []
  },
  {
   "cell_type": "markdown",
   "metadata": {
    "slideshow": {
     "slide_type": "slide"
    }
   },
   "source": [
    "###  演習\n",
    "_[日経平均株価](https://www.nikkei.com/markets/worldidx/chart/nk225/)\n",
    "から日経平均を取得してみましょう。_  \n",
    "\n",
    "ヒント : ```<span class = \"economic_value_now a-fs26\">```"
   ]
  },
  {
   "cell_type": "code",
   "execution_count": null,
   "metadata": {
    "slideshow": {
     "slide_type": "slide"
    }
   },
   "outputs": [],
   "source": []
  },
  {
   "cell_type": "markdown",
   "metadata": {},
   "source": [
    "### 演習\n",
    "_[国内株式](https://www.nikkei.com/markets/worldidx/)\n",
    "から各銘柄と値を全てを出力してみましょう。_"
   ]
  },
  {
   "cell_type": "code",
   "execution_count": null,
   "metadata": {},
   "outputs": [],
   "source": []
  },
  {
   "cell_type": "markdown",
   "metadata": {},
   "source": [
    "### チャレンジ\n",
    "-[yahooの速報](https://news.yahoo.co.jp/flash)のように送りページがあるサイトの情報をnページ分取得する"
   ]
  },
  {
   "cell_type": "code",
   "execution_count": null,
   "metadata": {},
   "outputs": [],
   "source": []
  }
 ],
 "metadata": {
  "celltoolbar": "Slideshow",
  "kernelspec": {
   "display_name": "Python 3",
   "language": "python",
   "name": "python3"
  },
  "language_info": {
   "codemirror_mode": {
    "name": "ipython",
    "version": 3
   },
   "file_extension": ".py",
   "mimetype": "text/x-python",
   "name": "python",
   "nbconvert_exporter": "python",
   "pygments_lexer": "ipython3",
   "version": "3.8.0"
  }
 },
 "nbformat": 4,
 "nbformat_minor": 2
}
