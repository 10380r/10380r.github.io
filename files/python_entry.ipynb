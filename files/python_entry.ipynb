{
 "cells": [
  {
   "cell_type": "code",
   "execution_count": null,
   "metadata": {
    "slideshow": {
     "slide_type": "skip"
    }
   },
   "outputs": [],
   "source": [
    "from IPython.core.display import display, HTML\n",
    "display(HTML(\"<style>.container { width:100% !important; }</style>\"))"
   ]
  },
  {
   "cell_type": "markdown",
   "metadata": {
    "slideshow": {
     "slide_type": "slide"
    }
   },
   "source": [
    "# Python　初学者講義\n",
    "#### 講師：富山"
   ]
  },
  {
   "cell_type": "markdown",
   "metadata": {
    "slideshow": {
     "slide_type": "slide"
    }
   },
   "source": [
    "## Jupyter Notebook\n",
    "**Jupyter Notebook**とは、ノートブックと呼ばれる形式で作成したプログラムを実行し, 実行結果を記録しながら, データの分析作業を進めるためのツール  \n",
    "\n",
    "メリット  \n",
    ">・リアルタイムで実行結果を確認できる  \n",
    "・チームメンバーでの作業結果をスムーズに共有  \n",
    "・スクール形式での授業や研修などに便利  \n",
    "\n",
    "[起動方法や操作方法](https://pythondatascience.plavox.info/python%E3%81%AE%E9%96%8B%E7%99%BA%E7%92%B0%E5%A2%83/jupyter-notebook%E3%82%92%E4%BD%BF%E3%81%A3%E3%81%A6%E3%81%BF%E3%82%88%E3%81%86)\n",
    "\n",
    "では早速触っていきましょう  \n",
    "  \n",
    "### **スクリプトの実行は `shift`+`enter`**です"
   ]
  },
  {
   "cell_type": "code",
   "execution_count": null,
   "metadata": {},
   "outputs": [],
   "source": []
  },
  {
   "cell_type": "markdown",
   "metadata": {
    "slideshow": {
     "slide_type": "slide"
    }
   },
   "source": [
    "# 基本を抑える"
   ]
  },
  {
   "cell_type": "markdown",
   "metadata": {
    "slideshow": {
     "slide_type": "slide"
    }
   },
   "source": [
    "### まずは計算させてみよう\n",
    "所詮プログラムは計算機です。  \n",
    "出力には`print関数`使います。  \n",
    "\n",
    "Tips  \n",
    ">`〇〇関数の`の時はカッコで囲う"
   ]
  },
  {
   "cell_type": "code",
   "execution_count": null,
   "metadata": {},
   "outputs": [],
   "source": [
    "print(1+1) #足し算\n",
    "print(2-1) #引き算\n",
    "print(2*2) #掛け算\n",
    "print(3%2) #あまり\n",
    "print(6/2) #割り算\n",
    "print(2**2) #べき乗"
   ]
  },
  {
   "cell_type": "markdown",
   "metadata": {
    "slideshow": {
     "slide_type": "slide"
    }
   },
   "source": [
    "## 変数\n",
    ">変数とはメモリの中に一時的に記憶しておくための領域  \n",
    "つまり、値を格納しておく箱\n",
    "\n",
    "```python\n",
    "hensu = \"Hello, World!\"\n",
    "print(hensu)\n",
    "```\n",
    "と書いて実行すると、\n",
    "```python\n",
    " \"Hello, World!\"\n",
    "```\n",
    "変数の中身が出力されました。\n",
    ">その名の通り、**変わる数** です  \n",
    "**変化する値**を扱うことができる\n",
    "\n",
    "また、変数は上書きすることができる\n",
    "```python\n",
    "fruit = \"grape\"\n",
    "fruit = \"orange\"\n",
    "print(\"好きな果物は\", fruit)\n",
    "orange = \"orange\"\n",
    "fruit = orange\n",
    "print(\"好きな果物は\", fruit)\n",
    "```"
   ]
  },
  {
   "cell_type": "code",
   "execution_count": null,
   "metadata": {},
   "outputs": [],
   "source": [
    "hensu = \"Hello, World!\"\n",
    "print(hensu)"
   ]
  },
  {
   "cell_type": "markdown",
   "metadata": {
    "slideshow": {
     "slide_type": "slide"
    }
   },
   "source": [
    "## <a style='color:red'> 演習</a>\n",
    "`name`と言う変数を作り、その中にあなたの名前を格納してみましょう。  \n",
    "その後で、`print関数`を使い、出力させてみましょう。"
   ]
  },
  {
   "cell_type": "code",
   "execution_count": null,
   "metadata": {},
   "outputs": [],
   "source": []
  },
  {
   "cell_type": "markdown",
   "metadata": {
    "slideshow": {
     "slide_type": "slide"
    }
   },
   "source": [
    "### 値には型がある\n",
    "```python\n",
    "str() 　 ：文字列型\n",
    "int()  　：整数型\n",
    "float()　：浮動少数点\n",
    "```\n"
   ]
  },
  {
   "cell_type": "code",
   "execution_count": null,
   "metadata": {},
   "outputs": [],
   "source": []
  },
  {
   "cell_type": "code",
   "execution_count": null,
   "metadata": {
    "slideshow": {
     "slide_type": "slide"
    }
   },
   "outputs": [],
   "source": [
    "#数値と文字列を連結させる： エラーになる例\n",
    "temp = 28\n",
    "\n",
    "print('今日の気温は' + temp + '度です')"
   ]
  },
  {
   "cell_type": "code",
   "execution_count": null,
   "metadata": {
    "slideshow": {
     "slide_type": "slide"
    }
   },
   "outputs": [],
   "source": [
    "# 解決方法1\n",
    "temp = 28\n",
    "print('今日の気温は'+ str(temp) + '度です')\n",
    "\n",
    "# 解決方法2\n",
    "temp = str(28)\n",
    "print('今日の気温は'+ temp + '度です')"
   ]
  },
  {
   "cell_type": "markdown",
   "metadata": {
    "slideshow": {
     "slide_type": "slide"
    }
   },
   "source": [
    "## <a style='color:red'> 演習</a>\n",
    "\n",
    "以下のような変数がある。\n",
    "\n",
    "```python\n",
    "var1 = 999\n",
    "var2 = 9\n",
    "var3 = 1\n",
    "```\n",
    "\n",
    "var1とvar2を文字列として連結したものを(9999)、連結した値を整数にしてvar3を足した結果を出力(10000)しなさい。"
   ]
  },
  {
   "cell_type": "code",
   "execution_count": null,
   "metadata": {
    "slideshow": {
     "slide_type": "-"
    }
   },
   "outputs": [],
   "source": [
    "var1 = 999\n",
    "var2 = 9\n",
    "var3 = 1\n"
   ]
  },
  {
   "cell_type": "markdown",
   "metadata": {
    "slideshow": {
     "slide_type": "slide"
    }
   },
   "source": [
    "## リスト\n",
    "リストとは変数をまとめたもの\n",
    ">ex.) 名前のリストを作りたい  \n",
    "これらを１つづつ変数に格納していくのは手間がかかる\n",
    "```\n",
    "ishimoto,   \n",
    "tomiyama,  \n",
    "takahashi,  \n",
    "tanaka\n",
    "```\n",
    "\n",
    "```python\n",
    "name_list = ['ishimoto', 'tomiyama', 'takahashi', 'tanaka']\n",
    "```\n",
    "と書くことができる  \n"
   ]
  },
  {
   "cell_type": "markdown",
   "metadata": {
    "slideshow": {
     "slide_type": "slide"
    }
   },
   "source": [
    "リストは「何番目」という指定の仕方で中身を取得する事ができる（＝index）  \n",
    "\n",
    "|ishimoto|tomiyama|takahashi|tanaka|\n",
    "|:-:|:-:|:-:|:-:|\n",
    "|0|1|2|3|\n",
    "\n",
    "このリストから出力させたい時  \n",
    "```python\n",
    "print(name_list[0])\n",
    "```\n",
    "と入力すると  \n",
    "\n",
    "`name_list` の０番目、つまり`ishimoto`を得ることが出来る  \n"
   ]
  },
  {
   "cell_type": "markdown",
   "metadata": {
    "slideshow": {
     "slide_type": "slide"
    }
   },
   "source": [
    "・max,min関数\n",
    ">リストの最高/最低を出力\n",
    "\n",
    "```python\n",
    "num = [1,5,10,15]\n",
    "print(max(num))\n",
    "\n",
    "# 結果は１５\n",
    "# min関数は同様の使い方で最小値を得る事ができる。\n",
    "```\n"
   ]
  },
  {
   "cell_type": "markdown",
   "metadata": {
    "slideshow": {
     "slide_type": "slide"
    }
   },
   "source": [
    "Tips  \n",
    ">リストのカッコは角カッコ`[]`"
   ]
  },
  {
   "cell_type": "markdown",
   "metadata": {
    "slideshow": {
     "slide_type": "slide"
    }
   },
   "source": [
    "## <a style='color:red'>演習</a>\n",
    "\n",
    "|点数|\n",
    "|:---:|  \n",
    "|90|  \n",
    "|88|  \n",
    "|30|  \n",
    "|100|  \n",
    "\n",
    "これらのテーブルをリストにしましょう"
   ]
  },
  {
   "cell_type": "code",
   "execution_count": null,
   "metadata": {},
   "outputs": [],
   "source": []
  },
  {
   "cell_type": "markdown",
   "metadata": {
    "slideshow": {
     "slide_type": "slide"
    }
   },
   "source": [
    "## <a style='color:red'> 演習</a>\n",
    "リストの最高点を出力させましょう"
   ]
  },
  {
   "cell_type": "code",
   "execution_count": null,
   "metadata": {},
   "outputs": [],
   "source": []
  },
  {
   "cell_type": "markdown",
   "metadata": {
    "slideshow": {
     "slide_type": "slide"
    }
   },
   "source": [
    "# 制御構文\n",
    "制御構文とは、何かしらの条件によってプログラムの流れを変えることの出来る機能のこと。  \n",
    "\n",
    "制御構文の中でも「条件分岐」はもっとも基本的な構文です。  \n",
    "日本語で言うなら、「＊＊する、そうでなければ＊＊する」と言えるでしょう。  \n",
    "\n",
    "### 制御文\n",
    "・制御文とは?  \n",
    "指定した条件を満たす場合に実行される文を制御文という.  \n",
    "\n",
    "\n",
    "## 演算子\n",
    "\n",
    "|演算子|例|Trueとなる条件|\n",
    "|:-:|:-:|:-:|\n",
    "|==|a==b|aがbと等しい|\n",
    "|!=|a!=b|aがbと異なる|\n",
    "|>|a>b|aがbより大きい|\n",
    "|>=|a>=b|aがb以上|\n"
   ]
  },
  {
   "cell_type": "markdown",
   "metadata": {
    "slideshow": {
     "slide_type": "slide"
    }
   },
   "source": [
    "## 条件分岐\n",
    "```python\n",
    "if 条件式1:\n",
    "    #条件式1を満たす場合\n",
    "    処理1\n",
    "elif 条件式２:\n",
    "    #条件式1を満たさず,条件2を満たす場合\n",
    "    処理2\n",
    "else:\n",
    "    #条件式1も2も満たさない場合\n",
    "    処理３\n",
    "```\n",
    "`elif`,`else`は特別処理させたくない場合、無くてもいい\n",
    "\n",
    "例）  \n",
    "```python\n",
    "x = 15\n",
    "if x>10:\n",
    "    #xが10より大きい場合に以下の文が実行\n",
    "    print('xは10より大きいです. ')\n",
    "elif x<0:\n",
    "    print('xは0より小さいです')\n",
    "else:\n",
    "    #xが0以上10以下の場合に実行\n",
    "    print('xは0以上10以下です. ')\n",
    "```"
   ]
  },
  {
   "cell_type": "markdown",
   "metadata": {
    "slideshow": {
     "slide_type": "slide"
    }
   },
   "source": [
    "Tips  \n",
    ">コロン（ : ）忘れずに。  \n",
    "インデント忘れずに。  "
   ]
  },
  {
   "cell_type": "markdown",
   "metadata": {
    "slideshow": {
     "slide_type": "slide"
    }
   },
   "source": [
    "\n",
    "### <a style='color:red'> 演習</a>\n",
    "input関数を使い、与えられた数字が奇数か偶数か判定させるプログラムを書きなさい  \n",
    "input関数：ユーザに入力をさせる事ができる関数  \n",
    "以下のプログラムを実行してみましょう。  \n",
    "```python\n",
    "user = input('名前は？')\n",
    "print('こんにちは、',user,'さん')\n",
    "```\n",
    "\n",
    "input関数は文字列型で入力されるので、演算をする場合はint()型に変換する必要があります。"
   ]
  },
  {
   "cell_type": "code",
   "execution_count": null,
   "metadata": {
    "slideshow": {
     "slide_type": "-"
    }
   },
   "outputs": [],
   "source": [
    "#input関数の使い方\n",
    "user = input('お名前は？')\n",
    "print('こんにちは', user, 'さん')"
   ]
  },
  {
   "cell_type": "code",
   "execution_count": null,
   "metadata": {
    "slideshow": {
     "slide_type": "-"
    }
   },
   "outputs": [],
   "source": []
  },
  {
   "cell_type": "markdown",
   "metadata": {
    "slideshow": {
     "slide_type": "slide"
    }
   },
   "source": [
    "# 繰り返し処理\n",
    "・for文：\n",
    ">ループ回数が分かっている場合に便利.   \n",
    "例(1から100までの数を出力するプログラムの時に利用)\n",
    "\n",
    "## for\n",
    "ループ処理とは？  \n",
    "変数iが範囲内であれば繰り返しで処理をする  \n",
    "イメージとしては与えられた複数要素をもつもの（シーケンス）をベルトコンベアのように、ベルト上のデータを一つずつ処理してくれます。  \n",
    "```python\n",
    "for i in シーケンス:\n",
    "    処理\n",
    "```\n",
    "繰り返し変数は`i`でなくても良い\n",
    "コロン忘れずに  \n",
    "・繰り返しの利点  \n",
    ">>・複数回同じ処理を行うものをまとめて処理可能  \n",
    "・処理の回数分、行数が増えるとうことはない！  \n",
    "・規則性を見つけて繰り返し処理をまとめる  \n",
    "・繰り返しによって変数の更新が可能  \n",
    "    ex.)1~1000までの合計値を計算  \n",
    "・If文を使うことによって複雑な規則性も表現可能  \n",
    "    ex.)奇数のみの値を繰り返し  \n",
    "    "
   ]
  },
  {
   "cell_type": "markdown",
   "metadata": {
    "slideshow": {
     "slide_type": "slide"
    }
   },
   "source": [
    "・FORとリストの関係\n",
    ">For文はリストの要素を繰り返している  \n",
    "\n",
    "```python\n",
    "for i in [0, 1, 2, 3, 4, 5]:\n",
    "  print(i)\n",
    "    \n",
    "        >0\n",
    "        >1\n",
    "        >2\n",
    "        >3\n",
    "        >4\n",
    "        >5\n",
    "    ```\n",
    "\n",
    "##### range関数\n",
    ">繰り返しの範囲を指定することができる  \n",
    "\n",
    "```python\n",
    "# 1,1000を出力させる\n",
    "for i in range(1,1001):\n",
    "    print(i)\n",
    "```"
   ]
  },
  {
   "cell_type": "code",
   "execution_count": null,
   "metadata": {},
   "outputs": [],
   "source": []
  },
  {
   "cell_type": "markdown",
   "metadata": {
    "slideshow": {
     "slide_type": "slide"
    }
   },
   "source": [
    "## <a style='color:red'> 演習</a>\n",
    "FOR文を用いて1~100の数字を出力させなさい"
   ]
  },
  {
   "cell_type": "code",
   "execution_count": null,
   "metadata": {},
   "outputs": [],
   "source": []
  },
  {
   "cell_type": "markdown",
   "metadata": {
    "slideshow": {
     "slide_type": "slide"
    }
   },
   "source": [
    "## <a style='color:red'> 応用演習</a>\n",
    "ある地域の一年の降水量を手に入れた。  \n",
    "\n",
    "\n",
    "|降水量|\n",
    "|:-:|\n",
    "|168|\n",
    "|109|\n",
    "|146|\n",
    "|242|\n",
    "|381|\n",
    "|539|\n",
    "|474|\n",
    "|12|\n",
    "|253|\n",
    "|240|\n",
    "|90|\n",
    "|103|\n",
    "\n",
    "\n",
    "これをリストにした。以下の問いに答えなさい  "
   ]
  },
  {
   "cell_type": "code",
   "execution_count": null,
   "metadata": {},
   "outputs": [],
   "source": [
    "# 一度 Shift + Enter でこのセルを実行してください\n",
    "rain_list = [168,109,146,242,381,539,474,12,253,240,90,103]"
   ]
  },
  {
   "cell_type": "markdown",
   "metadata": {
    "slideshow": {
     "slide_type": "slide"
    }
   },
   "source": [
    "## <a style='color:red'> 応用演習</a>\n",
    "上のリストから5月の降水量を抽出しなさい（上から月順に入ってるものとする）  \n",
    "ヒント：インデックスの指定、プログラムはカウントが0から始まる。"
   ]
  },
  {
   "cell_type": "code",
   "execution_count": null,
   "metadata": {},
   "outputs": [],
   "source": []
  },
  {
   "cell_type": "markdown",
   "metadata": {
    "slideshow": {
     "slide_type": "slide"
    }
   },
   "source": [
    "## <a style='color:red'> 応用演習</a>\n",
    "\n",
    "`rain_list`のデータを元に1年間の平均降水量を求めなさい  \n",
    "ここでは `12`という数字は扱えないものとする\n",
    "  \n",
    "使用できる関数  \n",
    "`sum関数`：合計を出すことができる  \n",
    "`len関数`：リストの要素数を出すことができる(文字列を渡すと、文字列の文字数)  \n",
    ">使い方  \n",
    "```python\n",
    "a = [1,2,3]\n",
    "sum(a) -->6\n",
    "len(a) -->3\n",
    "    ```\n",
    ">もちろん変数に格納することも可能　(`len`関数も同様の使い方)\n",
    "    "
   ]
  },
  {
   "cell_type": "code",
   "execution_count": null,
   "metadata": {},
   "outputs": [],
   "source": []
  },
  {
   "cell_type": "markdown",
   "metadata": {
    "slideshow": {
     "slide_type": "slide"
    }
   },
   "source": [
    "### ちなみに。。。"
   ]
  },
  {
   "cell_type": "code",
   "execution_count": null,
   "metadata": {
    "slideshow": {
     "slide_type": "slide"
    }
   },
   "outputs": [],
   "source": [
    "#こんな感じでグラフにもできます\n",
    "%matplotlib inline\n",
    "import matplotlib.pyplot as plt\n",
    "\n",
    "plt.plot(rain_list)\n",
    "plt.xticks(range(12),(1,2,3,4,5,6,7,8,9,10,11,12))\n",
    "plt.xlabel('MONTH')\n",
    "plt.ylabel('RAINFALL')\n",
    "plt.show()"
   ]
  },
  {
   "cell_type": "markdown",
   "metadata": {
    "slideshow": {
     "slide_type": "slide"
    }
   },
   "source": [
    "## <a style='color:red'> 応用演習</a>\n",
    "\n",
    "1~100の数字でFizzBuzzゲームを作成しなさい　　\n",
    "\n",
    "  _（3の倍数：Fizz、5の倍数：Buzz、15の倍数：FizzBuzz、それらに該当しないものはそのまま数字　を出力させる）_\n",
    " \n",
    "使う文法：　`if`,`for`,`range`"
   ]
  },
  {
   "cell_type": "code",
   "execution_count": null,
   "metadata": {},
   "outputs": [],
   "source": []
  },
  {
   "cell_type": "markdown",
   "metadata": {
    "slideshow": {
     "slide_type": "slide"
    }
   },
   "source": [
    "## <a style='color:red'> 応用演習</a>\n",
    "キーボードから人数を入力してもらい(=input関数)、遊園地の料金を計算するプログラムを工夫して作成しましょう。  \n",
    "  \n",
    ">ー詳細ー  \n",
    "大人：1000円  \n",
    "シニア(65歳以上)：800円  \n",
    "小人：700円  \n",
    "\n",
    "\n",
    ">__団体割(合計人数７人以上で適用)：全体料金から10%off__"
   ]
  },
  {
   "cell_type": "code",
   "execution_count": null,
   "metadata": {},
   "outputs": [],
   "source": []
  },
  {
   "cell_type": "markdown",
   "metadata": {},
   "source": [
    "# 以上です。お疲れ様でした。"
   ]
  }
 ],
 "metadata": {
  "celltoolbar": "Slideshow",
  "kernelspec": {
   "display_name": "Python 3",
   "language": "python",
   "name": "python3"
  },
  "language_info": {
   "codemirror_mode": {
    "name": "ipython",
    "version": 3
   },
   "file_extension": ".py",
   "mimetype": "text/x-python",
   "name": "python",
   "nbconvert_exporter": "python",
   "pygments_lexer": "ipython3",
   "version": "3.8.0"
  }
 },
 "nbformat": 4,
 "nbformat_minor": 2
}
